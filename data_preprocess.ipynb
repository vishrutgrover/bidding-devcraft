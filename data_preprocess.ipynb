{
 "cells": [
  {
   "cell_type": "code",
   "execution_count": 1,
   "metadata": {},
   "outputs": [],
   "source": [
    "import pandas as pd\n",
    "import numpy as np"
   ]
  },
  {
   "cell_type": "code",
   "execution_count": 2,
   "metadata": {},
   "outputs": [],
   "source": [
    "def load_dataset(path, isBidSet=False):\n",
    "    df = pd.read_pickle(path)\n",
    "    if not isBidSet:\n",
    "        df = df.iloc[:, :23]\n",
    "    df = df.drop(columns=[\"LogType\"], axis=1)\n",
    "    return df"
   ]
  },
  {
   "cell_type": "code",
   "execution_count": 3,
   "metadata": {},
   "outputs": [],
   "source": [
    "def initialize_dataset(work_df):\n",
    "    data = []\n",
    "\n",
    "    group = work_df.groupby('CreativeID')\n",
    "\n",
    "    for name, grp in group:\n",
    "        sub_group = grp.groupby('AdslotID')\n",
    "\n",
    "        for sub_name, sub_grp in sub_group:\n",
    "            mini_group = sub_grp.groupby('Adslotvisibility')\n",
    "\n",
    "            for mini_name, mini_grp in mini_group:\n",
    "                row = mini_grp.iloc[0]\n",
    "                regions = []\n",
    "                city = []\n",
    "                for region in mini_grp['Region'].unique():\n",
    "                    if not region == \"unknown\":\n",
    "                        regions.append(region)\n",
    "\n",
    "                for cit in mini_grp['City'].unique():\n",
    "                    if not cit == \"unknown\" or not cit == np.nan:\n",
    "                        city.append(cit)\n",
    "\n",
    "                if len(regions) == 0:\n",
    "                    regions = np.nan\n",
    "                if len(city) == 0:\n",
    "                    city = np.nan\n",
    "\n",
    "                data_dict = {\n",
    "                    'CreativeID': name,\n",
    "                    'AdvertiserID': row['AdvertiserID'],\n",
    "                    'User-Agent': row['User-Agent'],\n",
    "                    'Regions': regions,\n",
    "                    'City': city,\n",
    "                    'AdExchange': row['AdExchange'],\n",
    "                    'Adslotwidth': row['Adslotwidth'],\n",
    "                    'Adslotheight': row['Adslotheight'],\n",
    "                    'AdslotID': sub_name,\n",
    "                    'Adslotvisibility': mini_name,\n",
    "                    'Adslotformat': row['Adslotformat'],\n",
    "                    'Adslotfloorprice': row['Adslotfloorprice'],\n",
    "                    'BiddingPrice': row['BiddingPrice'],\n",
    "                    'num_impressions': len(mini_grp)\n",
    "                }\n",
    "\n",
    "                data.append(data_dict)\n",
    "\n",
    "    return pd.DataFrame(data)"
   ]
  },
  {
   "cell_type": "code",
   "execution_count": 4,
   "metadata": {},
   "outputs": [],
   "source": [
    "def get_number(row, df):\n",
    "    return len(df[(df['CreativeID'] == row['CreativeID']) & (df['AdslotID'] == row['AdslotID']) & (df['Adslotvisibility'] == row['Adslotvisibility'])])"
   ]
  },
  {
   "cell_type": "code",
   "execution_count": 5,
   "metadata": {},
   "outputs": [],
   "source": [
    "def get_device_type(row):\n",
    "    string = str(row['User-Agent']).lower()\n",
    "    if 'windows nt' in string or \"macintosh\" in string or \"linux\" in string:\n",
    "        return 'Desktop'\n",
    "    \n",
    "    elif 'android' in string or 'iphone' in string or 'mobile' in string:\n",
    "        return 'Mobile'\n",
    "    \n",
    "    elif 'ipad' in string or 'tablet' in string:\n",
    "        return 'Tablet'\n",
    "    \n",
    "    else:\n",
    "        return 'unknown'"
   ]
  },
  {
   "cell_type": "code",
   "execution_count": 41,
   "metadata": {},
   "outputs": [],
   "source": [
    "imp_df = load_dataset(\"data/imp_12.pkl\")\n",
    "clk_df = load_dataset(\"data/clk_12.pkl\")\n",
    "conv_df = load_dataset(\"data/conv_12.pkl\")\n",
    "\n",
    "df = initialize_dataset(imp_df)"
   ]
  },
  {
   "cell_type": "code",
   "execution_count": 42,
   "metadata": {},
   "outputs": [],
   "source": [
    "df['device_type'] = df.apply(lambda row: get_device_type(row), axis=1)"
   ]
  },
  {
   "cell_type": "code",
   "execution_count": 43,
   "metadata": {},
   "outputs": [],
   "source": [
    "df['num_conversions'] = df.apply(lambda row: get_number(row, conv_df), axis=1)"
   ]
  },
  {
   "cell_type": "code",
   "execution_count": 44,
   "metadata": {},
   "outputs": [],
   "source": [
    "df['num_clicks'] = df.apply(lambda row: get_number(row, clk_df), axis=1)"
   ]
  },
  {
   "cell_type": "code",
   "execution_count": 45,
   "metadata": {},
   "outputs": [],
   "source": [
    "df['ctr'] = df['num_clicks'] / df['num_impressions']"
   ]
  },
  {
   "cell_type": "code",
   "execution_count": 46,
   "metadata": {},
   "outputs": [],
   "source": [
    "df = df.drop(columns=['User-Agent'], axis=1)"
   ]
  },
  {
   "cell_type": "code",
   "execution_count": 47,
   "metadata": {},
   "outputs": [],
   "source": [
    "df.to_pickle(\"processed_data/df_12.pkl\")\n",
    "df.to_csv(\"processed_data/df_12.csv\", index=False)"
   ]
  },
  {
   "cell_type": "code",
   "execution_count": 76,
   "metadata": {},
   "outputs": [],
   "source": [
    "imp_df['City'] = imp_df['City'].fillna('unknown')\n",
    "imp_df['Region'] = imp_df['Region'].fillna('unknown')\n",
    "all_regions = imp_df['Region'].unique()"
   ]
  },
  {
   "cell_type": "code",
   "execution_count": 77,
   "metadata": {},
   "outputs": [],
   "source": [
    "region_city_map = {}\n",
    "\n",
    "for region in all_regions:\n",
    "    if region == \"unknown\":\n",
    "        continue\n",
    "\n",
    "    group = imp_df.groupby('Region').get_group(region)\n",
    "    cities = group['City'].unique().tolist()\n",
    "    if \"unknown\" in cities:\n",
    "        cities.remove(\"unknown\")\n",
    "    region_city_map[region] = cities"
   ]
  },
  {
   "cell_type": "code",
   "execution_count": 81,
   "metadata": {},
   "outputs": [],
   "source": [
    "import json\n",
    "\n",
    "with open(\"region_city_map.json\", \"w\") as f:\n",
    "    json.dump(region_city_map, f)"
   ]
  },
  {
   "cell_type": "code",
   "execution_count": 87,
   "metadata": {},
   "outputs": [
    {
     "data": {
      "text/plain": [
       "str"
      ]
     },
     "execution_count": 87,
     "metadata": {},
     "output_type": "execute_result"
    }
   ],
   "source": [
    "type(imp_df['Timestamp'][0])"
   ]
  },
  {
   "cell_type": "code",
   "execution_count": 88,
   "metadata": {},
   "outputs": [],
   "source": [
    "from datetime import datetime"
   ]
  },
  {
   "cell_type": "code",
   "execution_count": null,
   "metadata": {},
   "outputs": [],
   "source": [
    "imp_hour_map = {}\n",
    "click_hour_map = {}"
   ]
  },
  {
   "cell_type": "code",
   "execution_count": 122,
   "metadata": {},
   "outputs": [],
   "source": [
    "for i in imp_df['Timestamp']:\n",
    "    hour = datetime.strptime(i.split('.')[0], '%Y-%m-%d %H:%M:%S').hour\n",
    "    if hour in imp_hour_map:\n",
    "        imp_hour_map[hour] += 1\n",
    "    else:\n",
    "        imp_hour_map[hour] = 1"
   ]
  },
  {
   "cell_type": "code",
   "execution_count": 123,
   "metadata": {},
   "outputs": [],
   "source": [
    "for i in clk_df['Timestamp']:\n",
    "    hour = datetime.strptime(i.split('.')[0], '%Y-%m-%d %H:%M:%S').hour\n",
    "    if hour in click_hour_map:\n",
    "        click_hour_map[hour] += 1\n",
    "    else:\n",
    "        click_hour_map[hour] = 1"
   ]
  },
  {
   "cell_type": "code",
   "execution_count": 126,
   "metadata": {},
   "outputs": [],
   "source": [
    "full_hour_map = {\n",
    "    'Impressions': imp_hour_map,\n",
    "    'Clicks': click_hour_map,\n",
    "    'CTR': {k: click_hour_map[k] / imp_hour_map[k] for k in imp_hour_map}\n",
    "}"
   ]
  },
  {
   "cell_type": "code",
   "execution_count": 129,
   "metadata": {},
   "outputs": [],
   "source": [
    "import json\n",
    "\n",
    "with open(\"hourly_data.json\", \"w\") as f:\n",
    "    json.dump(full_hour_map, f)"
   ]
  },
  {
   "cell_type": "code",
   "execution_count": null,
   "metadata": {},
   "outputs": [],
   "source": []
  }
 ],
 "metadata": {
  "kernelspec": {
   "display_name": "venv",
   "language": "python",
   "name": "python3"
  },
  "language_info": {
   "codemirror_mode": {
    "name": "ipython",
    "version": 3
   },
   "file_extension": ".py",
   "mimetype": "text/x-python",
   "name": "python",
   "nbconvert_exporter": "python",
   "pygments_lexer": "ipython3",
   "version": "3.10.2"
  }
 },
 "nbformat": 4,
 "nbformat_minor": 2
}
